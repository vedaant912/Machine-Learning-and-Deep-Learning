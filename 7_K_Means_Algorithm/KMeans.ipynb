{
 "cells": [
  {
   "cell_type": "code",
   "execution_count": 1,
   "id": "58649615-2725-46b2-9ac3-a2dd1c27d437",
   "metadata": {},
   "outputs": [],
   "source": [
    "import numpy as np\n",
    "import pandas as pd\n",
    "import matplotlib.pyplot as plt"
   ]
  },
  {
   "cell_type": "markdown",
   "id": "0fd71268-408c-4259-a3b8-8cba3f3f3ffe",
   "metadata": {},
   "source": [
    "Data is without labels and need to be clustered together.\n",
    "1. For each data point in training set, calculate the distance between datapoint and centroid.\n",
    "   - Find centroid that has min distance\n",
    "   - assign datapoint to that centroid\n",
    "2. For each centroid\n",
    "   - Update centroid as mean of all data pts assigned to that particular centroid\n",
    "   - Sake of simplicity, centroid initialized with random values between 0 & 1. Vector with d-features. Random floats within that vector.\n",
    "\n",
    "predict function : A new data point and assign a cluster to that point\n",
    "                    Eucliden distance between two data points. (data point and centroid)\n",
    "\n",
    "KMeans: Class => functionalities i.e prediction, fit, initialization, etc\n",
    "\n",
    "centroid: Class => location, vectors that are part of that centroid. Which data points belong to that cluster."
   ]
  },
  {
   "cell_type": "code",
   "execution_count": 2,
   "id": "cdfa310c-bd5f-488b-be10-6b17099fe958",
   "metadata": {},
   "outputs": [],
   "source": [
    "from dataclasses import dataclass\n",
    "import random\n",
    "\n",
    "@dataclass\n",
    "class Centroid:\n",
    "    location: np.ndarray # (D,)\n",
    "    vectors: np.ndarray  # (N_i, D)"
   ]
  },
  {
   "cell_type": "code",
   "execution_count": 411,
   "id": "8be7adcd-d500-4b9b-aa40-de53a865759e",
   "metadata": {},
   "outputs": [],
   "source": [
    "class KMeans:\n",
    "    def __init__(self, n_features: int, k: int, X):\n",
    "        self.n_features = n_features\n",
    "        self.k = k\n",
    "\n",
    "        self.centroids = [\n",
    "            Centroid(\n",
    "                location = self.random_location_generator(X),\n",
    "                vectors = np.empty((0, self.n_features))\n",
    "            )\n",
    "            for _ in range(k)\n",
    "        ] \n",
    "\n",
    "    def distance(self, x: np.ndarray, y: np.ndarray) -> float:\n",
    "        return np.sqrt((x-y).T.dot(x-y))\n",
    "\n",
    "    def fit(self, X: np.ndarray, n_iterations: int):\n",
    "        for _ in range(n_iterations):\n",
    "            \n",
    "            # start initialization over again\n",
    "            for centroid in self.centroids:\n",
    "                centroid.vectors = np.empty((0, self.n_features))\n",
    "\n",
    "            for x_i in X.values:\n",
    "                distances = [\n",
    "                    self.distance(x_i, centroid.location) for centroid in self.centroids\n",
    "                ]\n",
    "                \n",
    "                min_idx = distances.index(min(distances))\n",
    "                cur_vectors = self.centroids[min_idx].vectors\n",
    "                \n",
    "                self.centroids[min_idx].vectors = np.vstack((cur_vectors, x_i))\n",
    "\n",
    "            # Update the centroids now\n",
    "            for centroid in self.centroids:\n",
    "                centroid.location = np.mean(centroid.vectors, axis=0)\n",
    "                \n",
    "    def predict(self, x: np.ndarray) -> int:\n",
    "        distance = [\n",
    "            self.distance(x, centroid.location) for centroid in self.centroids\n",
    "        ]\n",
    "\n",
    "        return distance.index(min(distance))\n",
    "\n",
    "    def random_location_generator(self, X):\n",
    "        min_values = X.min()\n",
    "        max_values = X.max()\n",
    "\n",
    "        return np.random.uniform(min_values, max_values)\n",
    "\n",
    "    def plot(self):\n",
    "\n",
    "        locations = [centroid.location for centroid in self.centroids]\n",
    "        x = []\n",
    "        y = []\n",
    "        for loc in locations:\n",
    "            x.append(loc[2])\n",
    "            y.append(loc[3])\n",
    "\n",
    "        plt.figure(figsize=(15, 7))\n",
    "        plt.scatter(x, y, color='black')\n",
    "        \n",
    "        vectors = [centroid.vectors for centroid in self.centroids]\n",
    "        for vector in vectors:\n",
    "            a = []\n",
    "            b = []\n",
    "            for row in vector:\n",
    "                a.append(row[2])\n",
    "                b.append(row[3])\n",
    "                \n",
    "            plt.scatter(a, b, marker='o', s=50, alpha=0.5)\n",
    "        \n",
    "        plt.legend()\n",
    "        plt.grid(True)\n",
    "        plt.tight_layout()\n",
    "        plt.show()     "
   ]
  },
  {
   "cell_type": "markdown",
   "id": "fc6fce99-992e-426e-b177-39167e9b9f7b",
   "metadata": {},
   "source": [
    "How to evaluate data points that are clustered?\n",
    "- It is hard to evaluate as it is unsupervised problem\n",
    "- Variance in that cluster. High variance inside a cluster is a problem\n",
    "\n",
    "- Name of the Centroid class can be named as Cluster as it has information regarding all points: centroid as well as data points"
   ]
  },
  {
   "cell_type": "code",
   "execution_count": 61,
   "id": "3c196b2f-6d81-4311-99fc-bdae82777563",
   "metadata": {},
   "outputs": [],
   "source": [
    "dataset = pd.read_csv(\"Mall_Customers.csv\")"
   ]
  },
  {
   "cell_type": "code",
   "execution_count": 62,
   "id": "aef21c99-40b3-4635-98dd-1677dccc63e6",
   "metadata": {},
   "outputs": [
    {
     "data": {
      "text/html": [
       "<div>\n",
       "<style scoped>\n",
       "    .dataframe tbody tr th:only-of-type {\n",
       "        vertical-align: middle;\n",
       "    }\n",
       "\n",
       "    .dataframe tbody tr th {\n",
       "        vertical-align: top;\n",
       "    }\n",
       "\n",
       "    .dataframe thead th {\n",
       "        text-align: right;\n",
       "    }\n",
       "</style>\n",
       "<table border=\"1\" class=\"dataframe\">\n",
       "  <thead>\n",
       "    <tr style=\"text-align: right;\">\n",
       "      <th></th>\n",
       "      <th>CustomerID</th>\n",
       "      <th>Gender</th>\n",
       "      <th>Age</th>\n",
       "      <th>Annual Income (k$)</th>\n",
       "      <th>Spending Score (1-100)</th>\n",
       "    </tr>\n",
       "  </thead>\n",
       "  <tbody>\n",
       "    <tr>\n",
       "      <th>0</th>\n",
       "      <td>1</td>\n",
       "      <td>Male</td>\n",
       "      <td>19</td>\n",
       "      <td>15</td>\n",
       "      <td>39</td>\n",
       "    </tr>\n",
       "    <tr>\n",
       "      <th>1</th>\n",
       "      <td>2</td>\n",
       "      <td>Male</td>\n",
       "      <td>21</td>\n",
       "      <td>15</td>\n",
       "      <td>81</td>\n",
       "    </tr>\n",
       "    <tr>\n",
       "      <th>2</th>\n",
       "      <td>3</td>\n",
       "      <td>Female</td>\n",
       "      <td>20</td>\n",
       "      <td>16</td>\n",
       "      <td>6</td>\n",
       "    </tr>\n",
       "    <tr>\n",
       "      <th>3</th>\n",
       "      <td>4</td>\n",
       "      <td>Female</td>\n",
       "      <td>23</td>\n",
       "      <td>16</td>\n",
       "      <td>77</td>\n",
       "    </tr>\n",
       "    <tr>\n",
       "      <th>4</th>\n",
       "      <td>5</td>\n",
       "      <td>Female</td>\n",
       "      <td>31</td>\n",
       "      <td>17</td>\n",
       "      <td>40</td>\n",
       "    </tr>\n",
       "  </tbody>\n",
       "</table>\n",
       "</div>"
      ],
      "text/plain": [
       "   CustomerID  Gender  Age  Annual Income (k$)  Spending Score (1-100)\n",
       "0           1    Male   19                  15                      39\n",
       "1           2    Male   21                  15                      81\n",
       "2           3  Female   20                  16                       6\n",
       "3           4  Female   23                  16                      77\n",
       "4           5  Female   31                  17                      40"
      ]
     },
     "execution_count": 62,
     "metadata": {},
     "output_type": "execute_result"
    }
   ],
   "source": [
    "dataset.head()"
   ]
  },
  {
   "cell_type": "code",
   "execution_count": 63,
   "id": "82869006-4aef-45bb-98dd-3f006bec59aa",
   "metadata": {},
   "outputs": [],
   "source": [
    "dataset = dataset.drop(columns='CustomerID', axis=1)"
   ]
  },
  {
   "cell_type": "code",
   "execution_count": 64,
   "id": "9682524e-2d8e-4b04-89d7-ba9ff2168e03",
   "metadata": {},
   "outputs": [
    {
     "data": {
      "text/html": [
       "<div>\n",
       "<style scoped>\n",
       "    .dataframe tbody tr th:only-of-type {\n",
       "        vertical-align: middle;\n",
       "    }\n",
       "\n",
       "    .dataframe tbody tr th {\n",
       "        vertical-align: top;\n",
       "    }\n",
       "\n",
       "    .dataframe thead th {\n",
       "        text-align: right;\n",
       "    }\n",
       "</style>\n",
       "<table border=\"1\" class=\"dataframe\">\n",
       "  <thead>\n",
       "    <tr style=\"text-align: right;\">\n",
       "      <th></th>\n",
       "      <th>Gender</th>\n",
       "      <th>Age</th>\n",
       "      <th>Annual Income (k$)</th>\n",
       "      <th>Spending Score (1-100)</th>\n",
       "    </tr>\n",
       "  </thead>\n",
       "  <tbody>\n",
       "    <tr>\n",
       "      <th>0</th>\n",
       "      <td>Male</td>\n",
       "      <td>19</td>\n",
       "      <td>15</td>\n",
       "      <td>39</td>\n",
       "    </tr>\n",
       "    <tr>\n",
       "      <th>1</th>\n",
       "      <td>Male</td>\n",
       "      <td>21</td>\n",
       "      <td>15</td>\n",
       "      <td>81</td>\n",
       "    </tr>\n",
       "    <tr>\n",
       "      <th>2</th>\n",
       "      <td>Female</td>\n",
       "      <td>20</td>\n",
       "      <td>16</td>\n",
       "      <td>6</td>\n",
       "    </tr>\n",
       "    <tr>\n",
       "      <th>3</th>\n",
       "      <td>Female</td>\n",
       "      <td>23</td>\n",
       "      <td>16</td>\n",
       "      <td>77</td>\n",
       "    </tr>\n",
       "    <tr>\n",
       "      <th>4</th>\n",
       "      <td>Female</td>\n",
       "      <td>31</td>\n",
       "      <td>17</td>\n",
       "      <td>40</td>\n",
       "    </tr>\n",
       "  </tbody>\n",
       "</table>\n",
       "</div>"
      ],
      "text/plain": [
       "   Gender  Age  Annual Income (k$)  Spending Score (1-100)\n",
       "0    Male   19                  15                      39\n",
       "1    Male   21                  15                      81\n",
       "2  Female   20                  16                       6\n",
       "3  Female   23                  16                      77\n",
       "4  Female   31                  17                      40"
      ]
     },
     "execution_count": 64,
     "metadata": {},
     "output_type": "execute_result"
    }
   ],
   "source": [
    "dataset.head()"
   ]
  },
  {
   "cell_type": "code",
   "execution_count": 65,
   "id": "fe15c5b9-8f5d-4ec6-a503-f5a9c7c8b2bb",
   "metadata": {},
   "outputs": [],
   "source": [
    "dataset['Gender'] = dataset['Gender'].map({\"Male\":1, \"Female\":0})"
   ]
  },
  {
   "cell_type": "code",
   "execution_count": 66,
   "id": "4878ac59-0e13-479a-9e8b-fe419a9fe28c",
   "metadata": {},
   "outputs": [
    {
     "data": {
      "text/html": [
       "<div>\n",
       "<style scoped>\n",
       "    .dataframe tbody tr th:only-of-type {\n",
       "        vertical-align: middle;\n",
       "    }\n",
       "\n",
       "    .dataframe tbody tr th {\n",
       "        vertical-align: top;\n",
       "    }\n",
       "\n",
       "    .dataframe thead th {\n",
       "        text-align: right;\n",
       "    }\n",
       "</style>\n",
       "<table border=\"1\" class=\"dataframe\">\n",
       "  <thead>\n",
       "    <tr style=\"text-align: right;\">\n",
       "      <th></th>\n",
       "      <th>Gender</th>\n",
       "      <th>Age</th>\n",
       "      <th>Annual Income (k$)</th>\n",
       "      <th>Spending Score (1-100)</th>\n",
       "    </tr>\n",
       "  </thead>\n",
       "  <tbody>\n",
       "    <tr>\n",
       "      <th>0</th>\n",
       "      <td>1</td>\n",
       "      <td>19</td>\n",
       "      <td>15</td>\n",
       "      <td>39</td>\n",
       "    </tr>\n",
       "    <tr>\n",
       "      <th>1</th>\n",
       "      <td>1</td>\n",
       "      <td>21</td>\n",
       "      <td>15</td>\n",
       "      <td>81</td>\n",
       "    </tr>\n",
       "    <tr>\n",
       "      <th>2</th>\n",
       "      <td>0</td>\n",
       "      <td>20</td>\n",
       "      <td>16</td>\n",
       "      <td>6</td>\n",
       "    </tr>\n",
       "  </tbody>\n",
       "</table>\n",
       "</div>"
      ],
      "text/plain": [
       "   Gender  Age  Annual Income (k$)  Spending Score (1-100)\n",
       "0       1   19                  15                      39\n",
       "1       1   21                  15                      81\n",
       "2       0   20                  16                       6"
      ]
     },
     "execution_count": 66,
     "metadata": {},
     "output_type": "execute_result"
    }
   ],
   "source": [
    "dataset.head(3)"
   ]
  },
  {
   "cell_type": "code",
   "execution_count": 67,
   "id": "0a94d188-ccfb-4b88-a7a1-03ed9c5d5bec",
   "metadata": {},
   "outputs": [],
   "source": [
    "# from sklearn.preprocessing import MinMaxScaler\n",
    "\n",
    "# scaler = MinMaxScaler()\n",
    "\n",
    "# X = scaler.fit_transform(dataset)"
   ]
  },
  {
   "cell_type": "code",
   "execution_count": 261,
   "id": "e60aff3a-9a9f-49b4-92a5-152dbed77e6d",
   "metadata": {},
   "outputs": [],
   "source": [
    "X = dataset"
   ]
  },
  {
   "cell_type": "code",
   "execution_count": 412,
   "id": "2d3c5358-1ea1-418f-b0ae-49f43c5fc7a2",
   "metadata": {},
   "outputs": [],
   "source": [
    "k_means = KMeans(4,5,X)\n",
    "k_means.fit(X,300)"
   ]
  },
  {
   "cell_type": "code",
   "execution_count": 413,
   "id": "14f96c69-0f4e-435f-8d3a-eef27ae2d799",
   "metadata": {},
   "outputs": [
    {
     "name": "stderr",
     "output_type": "stream",
     "text": [
      "No artists with labels found to put in legend.  Note that artists whose label start with an underscore are ignored when legend() is called with no argument.\n"
     ]
    },
    {
     "data": {
      "image/png": "[encoded data removed]",
      "text/plain": [
       "<Figure size 1500x700 with 1 Axes>"
      ]
     },
     "metadata": {},
     "output_type": "display_data"
    }
   ],
   "source": [
    "k_means.plot()"
   ]
  },
  {
   "cell_type": "code",
   "execution_count": null,
   "id": "83bb3a3d-c295-4f91-b320-8aab4a1741e7",
   "metadata": {},
   "outputs": [],
   "source": []
  },
  {
   "cell_type": "code",
   "execution_count": null,
   "id": "37bc48ef-abf9-4985-83a1-5993bd574adf",
   "metadata": {},
   "outputs": [],
   "source": []
  }
 ],
 "metadata": {
  "kernelspec": {
   "display_name": "Python 3 (ipykernel)",
   "language": "python",
   "name": "python3"
  },
  "language_info": {
   "codemirror_mode": {
    "name": "ipython",
    "version": 3
   },
   "file_extension": ".py",
   "mimetype": "text/x-python",
   "name": "python",
   "nbconvert_exporter": "python",
   "pygments_lexer": "ipython3",
   "version": "3.8.0"
  }
 },
 "nbformat": 4,
 "nbformat_minor": 5
}
