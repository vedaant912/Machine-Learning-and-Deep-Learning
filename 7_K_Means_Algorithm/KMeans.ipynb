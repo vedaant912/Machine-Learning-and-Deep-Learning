{
 "cells": [
  {
   "cell_type": "code",
   "execution_count": 1,
   "id": "58649615-2725-46b2-9ac3-a2dd1c27d437",
   "metadata": {},
   "outputs": [],
   "source": [
    "import numpy as np\n",
    "import pandas as pd"
   ]
  },
  {
   "cell_type": "markdown",
   "id": "0fd71268-408c-4259-a3b8-8cba3f3f3ffe",
   "metadata": {},
   "source": [
    "Data is without labels and need to be clustered together.\n",
    "1. For each data point in training set, calculate the distance between datapoint and centroid.\n",
    "   - Find centroid that has min distance\n",
    "   - assign datapoint to that centroid\n",
    "2. For each centroid\n",
    "   - Update centroid as mean of all data pts assigned to that particular centroid\n",
    "   - Sake of simplicity, centroid initialized with random values between 0 & 1. Vector with d-features. Random floats within that vector.\n",
    "\n",
    "predict function : A new data point and assign a cluster to that point\n",
    "                    Eucliden distance between two data points. (data point and centroid)\n",
    "\n",
    "KMeans: Class => functionalities i.e prediction, fit, initialization, etc\n",
    "\n",
    "centroid: Class => location, vectors that are part of that centroid. Which data points belong to that cluster."
   ]
  },
  {
   "cell_type": "code",
   "execution_count": 2,
   "id": "cdfa310c-bd5f-488b-be10-6b17099fe958",
   "metadata": {},
   "outputs": [],
   "source": [
    "from dataclasses import dataclass\n",
    "\n",
    "@dataclass\n",
    "class Centroid:\n",
    "    location: np.ndarray # (D,)\n",
    "    vectors: np.ndarray  # (N_i, D)"
   ]
  },
  {
   "cell_type": "code",
   "execution_count": 9,
   "id": "8be7adcd-d500-4b9b-aa40-de53a865759e",
   "metadata": {},
   "outputs": [],
   "source": [
    "class KMeans:\n",
    "    def __intit__(self, n_features: int, k: int):\n",
    "        self.n_features = n_features\n",
    "        self.k = k\n",
    "\n",
    "        self.centroids = [\n",
    "            Centroid(\n",
    "                location = random.randn(n_features),\n",
    "                vectors = np.empty((0, n_features))\n",
    "            )\n",
    "            for _ in range(k)\n",
    "        ] \n",
    "\n",
    "    def euclidean_dist(self, x: np.ndarray, y: np.ndarray) -> float:\n",
    "        return np.sqrt((x-y).T.dot(x-y))\n",
    "\n",
    "    def fit(self, X: np.ndarray, n_iterations: int):\n",
    "        for _ in range(n_iterations):\n",
    "            # start initialization over again\n",
    "            for centroid in self.centroids:\n",
    "                centroid.vectors = np.empty((0, n_features))\n",
    "\n",
    "            for x_i in X:\n",
    "                distances = [\n",
    "                    self.distance(x_i, centroid.location) for centroid in self.centroids\n",
    "                ]\n",
    "                min_idx = distances.index(min(distances))\n",
    "                cur_vectors = self.centroids[min_idx].vectors\n",
    "                self.centroids[min_idx].vectors = np.vstack((cur_vectors, x_i))\n",
    "\n",
    "        # Update the centroids now\n",
    "        for centroid in self.centroids:\n",
    "            centroid.locations = np.mean(centroid.vectors, axis=0)\n",
    "                \n",
    "    def predict(self, x: np.ndarray) -> int:\n",
    "        distance = [\n",
    "            self.distance(x, centroid.location) for centroid in self.centroids\n",
    "        ]\n",
    "\n",
    "        return distanc.index(min(distance))"
   ]
  },
  {
   "cell_type": "markdown",
   "id": "fc6fce99-992e-426e-b177-39167e9b9f7b",
   "metadata": {},
   "source": [
    "How to evaluate data points that are clustered?\n",
    "- It is hard to evaluate as it is unsupervised problem\n",
    "- Variance in that cluster. High variance inside a cluster is a problem\n",
    "\n",
    "- Name of the Centroid class can be named as Cluster as it has information regarding all points: centroid as well as data points"
   ]
  },
  {
   "cell_type": "code",
   "execution_count": null,
   "id": "3c196b2f-6d81-4311-99fc-bdae82777563",
   "metadata": {},
   "outputs": [],
   "source": []
  }
 ],
 "metadata": {
  "kernelspec": {
   "display_name": "Python 3 (ipykernel)",
   "language": "python",
   "name": "python3"
  },
  "language_info": {
   "codemirror_mode": {
    "name": "ipython",
    "version": 3
   },
   "file_extension": ".py",
   "mimetype": "text/x-python",
   "name": "python",
   "nbconvert_exporter": "python",
   "pygments_lexer": "ipython3",
   "version": "3.8.0"
  }
 },
 "nbformat": 4,
 "nbformat_minor": 5
}
